{
  "cells": [
    {
      "cell_type": "markdown",
      "metadata": {
        "id": "view-in-github",
        "colab_type": "text"
      },
      "source": [
        "<a href=\"https://colab.research.google.com/github/goflvhxj/Numble_Challenge/blob/main/EDA.ipynb\" target=\"_parent\"><img src=\"https://colab.research.google.com/assets/colab-badge.svg\" alt=\"Open In Colab\"/></a>"
      ]
    },
    {
      "cell_type": "markdown",
      "metadata": {
        "id": "GY-Q_BzZvxSg"
      },
      "source": [
        "## 데이터 확인"
      ]
    },
    {
      "cell_type": "code",
      "execution_count": null,
      "metadata": {
        "scrolled": true,
        "id": "zeyK8wihvxSi"
      },
      "outputs": [],
      "source": [
        "import pandas as pd\n",
        "import openpyxl\n",
        "import os\n",
        "\n",
        "activecop = pd.read_excel(\"C:\\\\Users\\\\Yeji\\\\Desktop\\\\취준\\\\넘블챌린지\\\\넘블 챌린지 데이터\\\\액티브 중소법인 재무보유.xlsx\")\n",
        "closecop = pd.read_excel(\"C:\\\\Users\\\\Yeji\\\\Desktop\\\\취준\\\\넘블챌린지\\\\넘블 챌린지 데이터\\\\휴폐업 중소법인 재무보유.xlsx\")\n",
        "\n",
        "#activecop.head()\n",
        "#closecop.head()"
      ]
    },
    {
      "cell_type": "code",
      "execution_count": null,
      "metadata": {
        "scrolled": true,
        "id": "leFp9X6ZvxSj"
      },
      "outputs": [],
      "source": [
        "import pandas as pd\n",
        "finance = pd.read_csv(\"C:\\\\Users\\\\Yeji\\\\Desktop\\\\취준\\\\넘블챌린지\\\\넘블 챌린지 데이터\\\\재무데이터_피처생성추가_결측치제거.csv\")\n",
        "#finance.head()"
      ]
    },
    {
      "cell_type": "code",
      "execution_count": null,
      "metadata": {
        "scrolled": true,
        "id": "sx5tmqeKvxSj",
        "outputId": "8c4e50b2-20c5-4297-9385-a0bba1af6870"
      },
      "outputs": [
        {
          "name": "stdout",
          "output_type": "stream",
          "text": [
            "(28982, 28)\n",
            "(6739, 28)\n",
            "(109142, 76)\n"
          ]
        }
      ],
      "source": [
        "print(activecop.shape)\n",
        "print(closecop.shape)\n",
        "print(finance.shape)"
      ]
    },
    {
      "cell_type": "code",
      "execution_count": null,
      "metadata": {
        "id": "AAEZiDPEvxSk",
        "outputId": "f2a76d10-4db5-43c3-f940-66a7892b8f82"
      },
      "outputs": [
        {
          "data": {
            "text/plain": [
              "BIZ_NO                 0\n",
              "CMP_PFIX_NM        10402\n",
              "CMP_NM1                0\n",
              "CMP_SFIX_NM        19813\n",
              "CMP_ENM               17\n",
              "BZ_TYP                 0\n",
              "CMP_SCL                0\n",
              "PBCO_GB                0\n",
              "PSN_CORP_GB            0\n",
              "HDOF_BR_GB             0\n",
              "FR_IVST_CORP_YN        0\n",
              "VENT_YN                0\n",
              "LIST_CD            28893\n",
              "IND_CD_ORDR           10\n",
              "IND_CD1               11\n",
              "IND_CD2            27782\n",
              "IND_CD3            28719\n",
              "PB_ORG_TYP             0\n",
              "MDSCO_PRTC_YN          0\n",
              "HDOF_CMP_CD        26075\n",
              "ESTB_DATE           1074\n",
              "ESTB_GB                0\n",
              "LIST_DATE          28823\n",
              "MN_BIZ_CONT          163\n",
              "NATN_NM            27337\n",
              "HOMEPAGE_URL       11228\n",
              "CEO_NM                 1\n",
              "EMP_CNT              734\n",
              "dtype: int64"
            ]
          },
          "execution_count": 52,
          "metadata": {},
          "output_type": "execute_result"
        }
      ],
      "source": [
        "# null값 확인\n",
        "activecop.isnull().sum()"
      ]
    },
    {
      "cell_type": "code",
      "execution_count": null,
      "metadata": {
        "id": "seQ2xBUpvxSk",
        "outputId": "530089ed-67e0-447a-ab6a-28f9aa7672fb"
      },
      "outputs": [
        {
          "data": {
            "text/plain": [
              "BIZ_NO                0\n",
              "CMP_PFIX_NM        1894\n",
              "CMP_NM                0\n",
              "CMP_SFIX_NM        5453\n",
              "CMP_ENM              44\n",
              "BZ_TYP                0\n",
              "CMP_SCL               0\n",
              "PBCO_GB               0\n",
              "PSN_CORP_GB           0\n",
              "HDOF_BR_GB            0\n",
              "FR_IVST_CORP_YN       0\n",
              "VENT_YN               0\n",
              "LIST_CD            6693\n",
              "IND_CD_ORDR           5\n",
              "IND_CD1             150\n",
              "IND_CD2            6656\n",
              "IND_CD3            6728\n",
              "PB_ORG_TYP            0\n",
              "MDSCO_PRTC_YN         0\n",
              "HDOF_CMP_CD        5288\n",
              "ESTB_DATE           565\n",
              "ESTB_GB               0\n",
              "LIST_DATE          6690\n",
              "MN_BIZ_CONT         168\n",
              "NATN_NM            6595\n",
              "HOMEPAGE_URL       4614\n",
              "CEO_NM                1\n",
              "EMP_CNT             688\n",
              "dtype: int64"
            ]
          },
          "execution_count": 53,
          "metadata": {},
          "output_type": "execute_result"
        }
      ],
      "source": [
        "# null값 확인\n",
        "closecop.isnull().sum()"
      ]
    },
    {
      "cell_type": "code",
      "execution_count": null,
      "metadata": {
        "scrolled": true,
        "id": "HlnRVdrXvxSl",
        "outputId": "542a15a7-431b-425a-cf04-8f8c916b213f"
      },
      "outputs": [
        {
          "data": {
            "text/plain": [
              "주택건설업              242\n",
              "부동산 임대업            229\n",
              "부동산 개발업            208\n",
              "건축공사업              154\n",
              "자동차부품 제조업          151\n",
              "                  ... \n",
              "세라믹 제조업              1\n",
              "주택 건설 및 분양업          1\n",
              "섬유무역업                1\n",
              "벽돌, 블럭, 맨홀 외         1\n",
              "핸드백, 지갑, 벨트, 가방      1\n",
              "Name: MN_BIZ_CONT, Length: 20005, dtype: int64"
            ]
          },
          "execution_count": 54,
          "metadata": {},
          "output_type": "execute_result"
        }
      ],
      "source": [
        "activecop['MN_BIZ_CONT'].value_counts()"
      ]
    },
    {
      "cell_type": "markdown",
      "metadata": {
        "id": "3mALVIPrvxSl"
      },
      "source": [
        "## 데이터 병합"
      ]
    },
    {
      "cell_type": "code",
      "execution_count": null,
      "metadata": {
        "scrolled": true,
        "id": "37x3EV3YvxSl",
        "outputId": "ccabc55c-eab9-40a0-ad5c-4abc61f53c0f"
      },
      "outputs": [
        {
          "name": "stdout",
          "output_type": "stream",
          "text": [
            "(35721, 29)\n"
          ]
        }
      ],
      "source": [
        "#기업 개요 병합\n",
        "\n",
        "cop = pd.concat([closecop, activecop])\n",
        "print(cop.shape)\n",
        "#print(cop.head())"
      ]
    },
    {
      "cell_type": "code",
      "execution_count": null,
      "metadata": {
        "id": "j1Yvn_KLvxSl"
      },
      "outputs": [],
      "source": [
        "#기업 개요 필요한 데이터만\n",
        "\n",
        "cop = cop[['BIZ_NO', 'CMP_SCL', 'ESTB_DATE', 'LIST_DATE']]\n",
        "#cop.head()"
      ]
    },
    {
      "cell_type": "code",
      "execution_count": null,
      "metadata": {
        "id": "dYoS_wKtvxSl",
        "outputId": "9bfc926a-9002-40cd-d080-a25401c0ec39"
      },
      "outputs": [
        {
          "data": {
            "text/plain": [
              "BIZ_NO               int64\n",
              "기업명                 object\n",
              "종업원 수              float64\n",
              "label                int64\n",
              "결산년월                 int64\n",
              "                    ...   \n",
              "총자본순이익률(%)         float64\n",
              "총자본영업이익률(%)        float64\n",
              "총자본증가율(%)          float64\n",
              "비유동비율(%)           float64\n",
              "이익잉여금대유동자산비율(%)    float64\n",
              "Length: 76, dtype: object"
            ]
          },
          "execution_count": 6,
          "metadata": {},
          "output_type": "execute_result"
        }
      ],
      "source": [
        "finance.rename(columns={'사업자번호':'BIZ_NO'}, inplace=True)\n",
        "finance.dtypes"
      ]
    },
    {
      "cell_type": "code",
      "execution_count": null,
      "metadata": {
        "id": "yLuh7JlEvxSl",
        "outputId": "cdbb1ed1-afea-4c09-f290-776b019f6ae6"
      },
      "outputs": [
        {
          "data": {
            "text/plain": [
              "BIZ_NO                 0\n",
              "기업명                    0\n",
              "종업원 수                853\n",
              "label                  0\n",
              "결산년월                   0\n",
              "                   ...  \n",
              "총자본순이익률(%)         36441\n",
              "총자본영업이익률(%)        36459\n",
              "총자본증가율(%)          36318\n",
              "비유동비율(%)            2049\n",
              "이익잉여금대유동자산비율(%)     1291\n",
              "Length: 76, dtype: int64"
            ]
          },
          "execution_count": 58,
          "metadata": {},
          "output_type": "execute_result"
        }
      ],
      "source": [
        "finance.isnull().sum()"
      ]
    },
    {
      "cell_type": "code",
      "execution_count": null,
      "metadata": {
        "scrolled": true,
        "id": "YDyqlP0-vxSm",
        "outputId": "caa275aa-4194-496d-a8c5-2eee7a00aafe"
      },
      "outputs": [
        {
          "name": "stdout",
          "output_type": "stream",
          "text": [
            "(109142, 79)\n"
          ]
        }
      ],
      "source": [
        "allcop = pd.merge(cop, finance, on='BIZ_NO', how='inner')\n",
        "print(allcop.shape)\n",
        "#allcop.head()"
      ]
    },
    {
      "cell_type": "markdown",
      "metadata": {
        "id": "KaqgSZ8ZvxSm"
      },
      "source": [
        "## 칼럼 정리"
      ]
    },
    {
      "cell_type": "code",
      "execution_count": null,
      "metadata": {
        "scrolled": true,
        "id": "gg0MoHLhvxSm",
        "outputId": "5986332c-a7db-4027-9d30-c8c005529a71"
      },
      "outputs": [
        {
          "name": "stdout",
          "output_type": "stream",
          "text": [
            "(109142, 78)\n"
          ]
        }
      ],
      "source": [
        "# 기업명 삭제\n",
        "\n",
        "allcop.drop('기업명', axis=1, inplace=True)\n",
        "print(allcop.shape)\n",
        "#allcop.head()"
      ]
    },
    {
      "cell_type": "code",
      "execution_count": null,
      "metadata": {
        "id": "GeDyVw-JvxSm",
        "outputId": "d70ada8b-c81c-43ac-c18a-f1cc61eddbf7"
      },
      "outputs": [
        {
          "data": {
            "text/plain": [
              "2    109142\n",
              "Name: CMP_SCL, dtype: int64"
            ]
          },
          "execution_count": 62,
          "metadata": {},
          "output_type": "execute_result"
        }
      ],
      "source": [
        "allcop['CMP_SCL'].value_counts()"
      ]
    },
    {
      "cell_type": "code",
      "execution_count": null,
      "metadata": {
        "id": "RobJ1akbvxSn",
        "outputId": "b1d0887c-99af-440e-ab48-1adf76c0f7d4"
      },
      "outputs": [
        {
          "name": "stdout",
          "output_type": "stream",
          "text": [
            "(109142, 77)\n"
          ]
        }
      ],
      "source": [
        "# 기업 규모 삭제\n",
        "\n",
        "allcop.drop('CMP_SCL', axis=1, inplace=True)\n",
        "print(allcop.shape)\n",
        "#allcop.head()"
      ]
    },
    {
      "cell_type": "code",
      "execution_count": null,
      "metadata": {
        "id": "uK-gkcNyvxSn",
        "outputId": "8c927852-c35c-4996-dc36-92285864d82f"
      },
      "outputs": [
        {
          "name": "stderr",
          "output_type": "stream",
          "text": [
            "<ipython-input-65-9a77b39548b4>:16: SettingWithCopyWarning: \n",
            "A value is trying to be set on a copy of a slice from a DataFrame\n",
            "\n",
            "See the caveats in the documentation: https://pandas.pydata.org/pandas-docs/stable/user_guide/indexing.html#returning-a-view-versus-a-copy\n",
            "  temp['year'][i] = temp['ESTB_DATE'][i][:4]\n",
            "<ipython-input-65-9a77b39548b4>:17: SettingWithCopyWarning: \n",
            "A value is trying to be set on a copy of a slice from a DataFrame\n",
            "\n",
            "See the caveats in the documentation: https://pandas.pydata.org/pandas-docs/stable/user_guide/indexing.html#returning-a-view-versus-a-copy\n",
            "  temp['month'][i] = temp['ESTB_DATE'][i][4:6]\n"
          ]
        }
      ],
      "source": [
        "# 설립일자 업력으로 변경\n",
        "\n",
        "from datetime import datetime\n",
        "\n",
        "temp = allcop['ESTB_DATE'].dropna()\n",
        "\n",
        "temp= temp.astype(int)\n",
        "temp= temp.astype(str)\n",
        "temp=pd.DataFrame(temp)\n",
        "temp.reset_index(inplace=True)\n",
        "\n",
        "temp['year'] = [0]*len(temp['ESTB_DATE'])\n",
        "temp['month'] = [0]*len(temp['ESTB_DATE'])\n",
        "\n",
        "for i in range(len(temp['ESTB_DATE'])):\n",
        "    temp['year'][i] = temp['ESTB_DATE'][i][:4]\n",
        "    temp['month'][i] = temp['ESTB_DATE'][i][4:6]"
      ]
    },
    {
      "cell_type": "code",
      "execution_count": null,
      "metadata": {
        "id": "hnESWIVxvxSn",
        "outputId": "68f87dff-0e80-4048-fe39-307592d22e52"
      },
      "outputs": [
        {
          "name": "stderr",
          "output_type": "stream",
          "text": [
            "<ipython-input-66-ea0eeb6f190f>:5: SettingWithCopyWarning: \n",
            "A value is trying to be set on a copy of a slice from a DataFrame\n",
            "\n",
            "See the caveats in the documentation: https://pandas.pydata.org/pandas-docs/stable/user_guide/indexing.html#returning-a-view-versus-a-copy\n",
            "  temp['history'][i]=(2022-int(temp['year'][i]))*12+10-int(temp['month'][i])\n",
            "<ipython-input-66-ea0eeb6f190f>:7: SettingWithCopyWarning: \n",
            "A value is trying to be set on a copy of a slice from a DataFrame\n",
            "\n",
            "See the caveats in the documentation: https://pandas.pydata.org/pandas-docs/stable/user_guide/indexing.html#returning-a-view-versus-a-copy\n",
            "  temp['history'][i]=(2022-int(temp['year'][i])-1)*12+12-int(temp['month'][i]-10)\n"
          ]
        },
        {
          "name": "stdout",
          "output_type": "stream",
          "text": [
            "0         269.0\n",
            "1         269.0\n",
            "2         269.0\n",
            "3         269.0\n",
            "4         453.0\n",
            "          ...  \n",
            "109137      4.0\n",
            "109138      4.0\n",
            "109139     10.0\n",
            "109140     10.0\n",
            "109141     10.0\n",
            "Name: ESTB_DATE, Length: 109142, dtype: float64\n"
          ]
        }
      ],
      "source": [
        "temp['history']=[0]*len(temp['ESTB_DATE'])\n",
        "\n",
        "for i in range(len(temp['ESTB_DATE'])):\n",
        "    if int(temp['month'][i]) <=10:\n",
        "        temp['history'][i]=(2022-int(temp['year'][i]))*12+10-int(temp['month'][i])\n",
        "    else:\n",
        "        temp['history'][i]=(2022-int(temp['year'][i])-1)*12+12-int(temp['month'][i]-10)\n",
        "\n",
        "temp.index = temp['index']\n",
        "allcop['ESTB_DATE'] = temp['history']\n",
        "print(allcop['ESTB_DATE'])"
      ]
    },
    {
      "cell_type": "code",
      "execution_count": null,
      "metadata": {
        "id": "u_E5dNxcvxSn",
        "outputId": "dda8aabc-d342-42db-deab-d99e10b89f12"
      },
      "outputs": [
        {
          "name": "stdout",
          "output_type": "stream",
          "text": [
            "0        NaN\n",
            "1        NaN\n",
            "2        NaN\n",
            "3        NaN\n",
            "4        NaN\n",
            "          ..\n",
            "109137   NaN\n",
            "109138   NaN\n",
            "109139   NaN\n",
            "109140   NaN\n",
            "109141   NaN\n",
            "Name: LIST_DATE, Length: 109142, dtype: float64\n"
          ]
        },
        {
          "name": "stderr",
          "output_type": "stream",
          "text": [
            "<ipython-input-67-19633ee754cc>:13: SettingWithCopyWarning: \n",
            "A value is trying to be set on a copy of a slice from a DataFrame\n",
            "\n",
            "See the caveats in the documentation: https://pandas.pydata.org/pandas-docs/stable/user_guide/indexing.html#returning-a-view-versus-a-copy\n",
            "  temp_list['year'][i] = temp_list['LIST_DATE'][i][:4]\n",
            "<ipython-input-67-19633ee754cc>:14: SettingWithCopyWarning: \n",
            "A value is trying to be set on a copy of a slice from a DataFrame\n",
            "\n",
            "See the caveats in the documentation: https://pandas.pydata.org/pandas-docs/stable/user_guide/indexing.html#returning-a-view-versus-a-copy\n",
            "  temp_list['month'][i] = temp_list['LIST_DATE'][i][4:6]\n",
            "<ipython-input-67-19633ee754cc>:20: SettingWithCopyWarning: \n",
            "A value is trying to be set on a copy of a slice from a DataFrame\n",
            "\n",
            "See the caveats in the documentation: https://pandas.pydata.org/pandas-docs/stable/user_guide/indexing.html#returning-a-view-versus-a-copy\n",
            "  temp_list['history'][i]=(2022-int(temp_list['year'][i]))*12+10-int(temp_list['month'][i])\n",
            "<ipython-input-67-19633ee754cc>:22: SettingWithCopyWarning: \n",
            "A value is trying to be set on a copy of a slice from a DataFrame\n",
            "\n",
            "See the caveats in the documentation: https://pandas.pydata.org/pandas-docs/stable/user_guide/indexing.html#returning-a-view-versus-a-copy\n",
            "  temp_list['history'][i]=(2022-int(temp_list['year'][i])-1)*12+12-int(temp_list['month'][i]-10)\n"
          ]
        }
      ],
      "source": [
        "# 상장일자를 기준일자로부터 경과수로 변경\n",
        "temp_list = allcop['LIST_DATE'].dropna()\n",
        "\n",
        "temp_list = temp_list.astype(int)\n",
        "temp_list = temp_list.astype(str)\n",
        "temp_list = pd.DataFrame(temp_list)\n",
        "temp_list.reset_index(inplace=True)\n",
        "\n",
        "temp_list['year'] = [0]*len(temp_list['LIST_DATE'])\n",
        "temp_list['month'] = [0]*len(temp_list['LIST_DATE'])\n",
        "\n",
        "for i in range(len(temp_list['LIST_DATE'])):\n",
        "    temp_list['year'][i] = temp_list['LIST_DATE'][i][:4]\n",
        "    temp_list['month'][i] = temp_list['LIST_DATE'][i][4:6]\n",
        "    \n",
        "temp_list['history']=[0]*len(temp_list['LIST_DATE'])\n",
        "\n",
        "for i in range(len(temp_list['LIST_DATE'])):\n",
        "    if int(temp_list['month'][i]) <=10:\n",
        "        temp_list['history'][i]=(2022-int(temp_list['year'][i]))*12+10-int(temp_list['month'][i])\n",
        "    else:\n",
        "        temp_list['history'][i]=(2022-int(temp_list['year'][i])-1)*12+12-int(temp_list['month'][i]-10)\n",
        "\n",
        "temp_list.index = temp_list['index']\n",
        "allcop['LIST_DATE'] = temp_list['history']\n",
        "print(allcop['LIST_DATE'])"
      ]
    },
    {
      "cell_type": "markdown",
      "metadata": {
        "id": "q3Exir4yvxSo"
      },
      "source": [
        "## EDA\n",
        "#### 1. 결측치 개수"
      ]
    },
    {
      "cell_type": "code",
      "execution_count": null,
      "metadata": {
        "scrolled": true,
        "id": "NMg4yYDXvxSo",
        "outputId": "125a94bf-6201-4493-fb81-1fc1cd0e5777"
      },
      "outputs": [
        {
          "data": {
            "text/plain": [
              "ESTB_DATE                       1975\n",
              "LIST_DATE                     108425\n",
              "employee                         853\n",
              "label                              0\n",
              "Date                               0\n",
              "                               ...  \n",
              "totalCapitalNet                36441\n",
              "totalCapitalbpro               36459\n",
              "totalCapitalGrowth             36318\n",
              "noCurrentRatio                  2049\n",
              "currentAsset/earnedSurplus      1291\n",
              "Length: 76, dtype: int64"
            ]
          },
          "execution_count": 39,
          "metadata": {},
          "output_type": "execute_result"
        }
      ],
      "source": [
        "allcop.isnull().sum()"
      ]
    },
    {
      "cell_type": "code",
      "execution_count": null,
      "metadata": {
        "scrolled": false,
        "id": "oKwPNTbYvxSo",
        "outputId": "bff12746-f324-493b-a52d-74859848821b"
      },
      "outputs": [
        {
          "data": {
            "text/plain": [
              "<AxesSubplot:>"
            ]
          },
          "execution_count": 40,
          "metadata": {},
          "output_type": "execute_result"
        },
        {
          "data": {
            "image/png": "[encoded data removed]",
            "text/plain": [
              "<Figure size 432x288 with 1 Axes>"
            ]
          },
          "metadata": {
            "needs_background": "light"
          },
          "output_type": "display_data"
        }
      ],
      "source": [
        "# 시각화\n",
        "\n",
        "import numpy as np\n",
        "import matplotlib.pyplot as plt\n",
        "import seaborn as sns\n",
        "\n",
        "%matplotlib inline\n",
        "plt.rc('font', family='Malgun Gothic')\n",
        "sns.heatmap(allcop.isnull(), cbar = False)"
      ]
    },
    {
      "cell_type": "markdown",
      "metadata": {
        "id": "o-_-hjwBvxSp"
      },
      "source": [
        "#### 2. 수치형 vs 범주형 변수"
      ]
    },
    {
      "cell_type": "code",
      "execution_count": null,
      "metadata": {
        "id": "Sv-FF9L2vxSp",
        "outputId": "dc8f7cf7-0416-4bcd-a2fb-bb8970459b09"
      },
      "outputs": [
        {
          "data": {
            "text/plain": [
              "1    98905\n",
              "0    10237\n",
              "Name: label, dtype: int64"
            ]
          },
          "execution_count": 44,
          "metadata": {},
          "output_type": "execute_result"
        }
      ],
      "source": [
        "allcop['label'].value_counts()"
      ]
    },
    {
      "cell_type": "code",
      "execution_count": null,
      "metadata": {
        "scrolled": true,
        "id": "YJ9xVB6kvxSp",
        "outputId": "609d7309-b544-4def-ef75-5a33b3af6d1e"
      },
      "outputs": [
        {
          "data": {
            "text/html": [
              "<div>\n",
              "<style scoped>\n",
              "    .dataframe tbody tr th:only-of-type {\n",
              "        vertical-align: middle;\n",
              "    }\n",
              "\n",
              "    .dataframe tbody tr th {\n",
              "        vertical-align: top;\n",
              "    }\n",
              "\n",
              "    .dataframe thead th {\n",
              "        text-align: right;\n",
              "    }\n",
              "</style>\n",
              "<table border=\"1\" class=\"dataframe\">\n",
              "  <thead>\n",
              "    <tr style=\"text-align: right;\">\n",
              "      <th></th>\n",
              "      <th>ESTB_DATE</th>\n",
              "      <th>LIST_DATE</th>\n",
              "      <th>employee</th>\n",
              "      <th>label</th>\n",
              "      <th>Date</th>\n",
              "      <th>currentAsset</th>\n",
              "      <th>saleCredit</th>\n",
              "      <th>noCurrentAsset</th>\n",
              "      <th>tangibleAsset</th>\n",
              "      <th>totalAsset</th>\n",
              "      <th>...</th>\n",
              "      <th>sell/emp</th>\n",
              "      <th>bpro/emp</th>\n",
              "      <th>capital/emp</th>\n",
              "      <th>profit/emp</th>\n",
              "      <th>bprofit/ICR</th>\n",
              "      <th>totalCapitalNet</th>\n",
              "      <th>totalCapitalbpro</th>\n",
              "      <th>totalCapitalGrowth</th>\n",
              "      <th>noCurrentRatio</th>\n",
              "      <th>currentAsset/earnedSurplus</th>\n",
              "    </tr>\n",
              "  </thead>\n",
              "  <tbody>\n",
              "    <tr>\n",
              "      <th>count</th>\n",
              "      <td>107167.000000</td>\n",
              "      <td>717.000000</td>\n",
              "      <td>108289.000000</td>\n",
              "      <td>109142.000000</td>\n",
              "      <td>1.091420e+05</td>\n",
              "      <td>1.081430e+05</td>\n",
              "      <td>9.113200e+04</td>\n",
              "      <td>1.071170e+05</td>\n",
              "      <td>1.018980e+05</td>\n",
              "      <td>1.081530e+05</td>\n",
              "      <td>...</td>\n",
              "      <td>1.039620e+05</td>\n",
              "      <td>1.052160e+05</td>\n",
              "      <td>1.052160e+05</td>\n",
              "      <td>1.052160e+05</td>\n",
              "      <td>90921.000000</td>\n",
              "      <td>72701.000000</td>\n",
              "      <td>72683.000000</td>\n",
              "      <td>7.282400e+04</td>\n",
              "      <td>1.070930e+05</td>\n",
              "      <td>1.078510e+05</td>\n",
              "    </tr>\n",
              "    <tr>\n",
              "      <th>mean</th>\n",
              "      <td>219.927627</td>\n",
              "      <td>190.100418</td>\n",
              "      <td>62.426119</td>\n",
              "      <td>0.906205</td>\n",
              "      <td>2.019548e+07</td>\n",
              "      <td>1.559555e+07</td>\n",
              "      <td>4.345309e+06</td>\n",
              "      <td>2.002072e+07</td>\n",
              "      <td>1.431236e+07</td>\n",
              "      <td>3.558984e+07</td>\n",
              "      <td>...</td>\n",
              "      <td>2.575138e+05</td>\n",
              "      <td>1.145524e+05</td>\n",
              "      <td>3.627127e+05</td>\n",
              "      <td>2.723170e+04</td>\n",
              "      <td>56.487838</td>\n",
              "      <td>1.865169</td>\n",
              "      <td>3.369693</td>\n",
              "      <td>9.130668e+02</td>\n",
              "      <td>6.663594e+02</td>\n",
              "      <td>-9.765433e+01</td>\n",
              "    </tr>\n",
              "    <tr>\n",
              "      <th>std</th>\n",
              "      <td>137.038929</td>\n",
              "      <td>139.643825</td>\n",
              "      <td>160.280163</td>\n",
              "      <td>0.291545</td>\n",
              "      <td>1.137009e+04</td>\n",
              "      <td>4.427457e+07</td>\n",
              "      <td>2.230116e+07</td>\n",
              "      <td>5.802346e+07</td>\n",
              "      <td>4.736083e+07</td>\n",
              "      <td>9.544234e+07</td>\n",
              "      <td>...</td>\n",
              "      <td>1.104704e+06</td>\n",
              "      <td>2.165616e+06</td>\n",
              "      <td>3.194812e+06</td>\n",
              "      <td>2.875318e+06</td>\n",
              "      <td>1671.956858</td>\n",
              "      <td>25.694053</td>\n",
              "      <td>24.340964</td>\n",
              "      <td>1.842636e+05</td>\n",
              "      <td>1.506909e+05</td>\n",
              "      <td>4.011175e+04</td>\n",
              "    </tr>\n",
              "    <tr>\n",
              "      <th>min</th>\n",
              "      <td>3.000000</td>\n",
              "      <td>4.000000</td>\n",
              "      <td>0.000000</td>\n",
              "      <td>0.000000</td>\n",
              "      <td>2.018013e+07</td>\n",
              "      <td>-2.719290e+05</td>\n",
              "      <td>-5.421180e+05</td>\n",
              "      <td>-1.964740e+05</td>\n",
              "      <td>-4.939030e+05</td>\n",
              "      <td>-3.793700e+04</td>\n",
              "      <td>...</td>\n",
              "      <td>-5.678862e+06</td>\n",
              "      <td>-8.514408e+07</td>\n",
              "      <td>-2.886529e+04</td>\n",
              "      <td>-3.183783e+08</td>\n",
              "      <td>-294887.786000</td>\n",
              "      <td>-3266.323000</td>\n",
              "      <td>-3320.311000</td>\n",
              "      <td>-2.681187e+03</td>\n",
              "      <td>-2.694073e+07</td>\n",
              "      <td>-3.052247e+06</td>\n",
              "    </tr>\n",
              "    <tr>\n",
              "      <th>25%</th>\n",
              "      <td>112.000000</td>\n",
              "      <td>75.000000</td>\n",
              "      <td>7.000000</td>\n",
              "      <td>1.000000</td>\n",
              "      <td>2.018123e+07</td>\n",
              "      <td>3.493444e+06</td>\n",
              "      <td>6.949922e+05</td>\n",
              "      <td>3.220908e+06</td>\n",
              "      <td>1.051310e+06</td>\n",
              "      <td>1.290780e+07</td>\n",
              "      <td>...</td>\n",
              "      <td>3.532792e+04</td>\n",
              "      <td>-1.369859e+03</td>\n",
              "      <td>7.304598e+03</td>\n",
              "      <td>-5.456093e+03</td>\n",
              "      <td>0.130000</td>\n",
              "      <td>-0.721000</td>\n",
              "      <td>-0.245000</td>\n",
              "      <td>-3.211447e+00</td>\n",
              "      <td>3.580200e+01</td>\n",
              "      <td>-1.031500e+00</td>\n",
              "    </tr>\n",
              "    <tr>\n",
              "      <th>50%</th>\n",
              "      <td>199.000000</td>\n",
              "      <td>152.000000</td>\n",
              "      <td>30.000000</td>\n",
              "      <td>1.000000</td>\n",
              "      <td>2.019123e+07</td>\n",
              "      <td>8.256922e+06</td>\n",
              "      <td>2.144162e+06</td>\n",
              "      <td>9.714268e+06</td>\n",
              "      <td>6.726104e+06</td>\n",
              "      <td>2.037449e+07</td>\n",
              "      <td>...</td>\n",
              "      <td>7.221788e+04</td>\n",
              "      <td>1.404137e+04</td>\n",
              "      <td>2.222222e+04</td>\n",
              "      <td>9.015759e+03</td>\n",
              "      <td>2.148000</td>\n",
              "      <td>2.114000</td>\n",
              "      <td>2.999000</td>\n",
              "      <td>4.288755e+00</td>\n",
              "      <td>1.049590e+02</td>\n",
              "      <td>4.169100e+01</td>\n",
              "    </tr>\n",
              "    <tr>\n",
              "      <th>75%</th>\n",
              "      <td>290.000000</td>\n",
              "      <td>300.000000</td>\n",
              "      <td>67.000000</td>\n",
              "      <td>1.000000</td>\n",
              "      <td>2.020123e+07</td>\n",
              "      <td>1.670381e+07</td>\n",
              "      <td>4.868394e+06</td>\n",
              "      <td>1.951774e+07</td>\n",
              "      <td>1.468635e+07</td>\n",
              "      <td>3.668912e+07</td>\n",
              "      <td>...</td>\n",
              "      <td>1.661013e+05</td>\n",
              "      <td>5.420311e+04</td>\n",
              "      <td>7.500000e+04</td>\n",
              "      <td>3.977658e+04</td>\n",
              "      <td>8.687000</td>\n",
              "      <td>7.014000</td>\n",
              "      <td>7.828500</td>\n",
              "      <td>1.946191e+01</td>\n",
              "      <td>2.286010e+02</td>\n",
              "      <td>9.461300e+01</td>\n",
              "    </tr>\n",
              "    <tr>\n",
              "      <th>max</th>\n",
              "      <td>1629.000000</td>\n",
              "      <td>559.000000</td>\n",
              "      <td>16310.000000</td>\n",
              "      <td>1.000000</td>\n",
              "      <td>2.022063e+07</td>\n",
              "      <td>5.369207e+09</td>\n",
              "      <td>4.158548e+09</td>\n",
              "      <td>1.002787e+10</td>\n",
              "      <td>1.001807e+10</td>\n",
              "      <td>1.595357e+10</td>\n",
              "      <td>...</td>\n",
              "      <td>8.514408e+07</td>\n",
              "      <td>4.245776e+08</td>\n",
              "      <td>2.489720e+08</td>\n",
              "      <td>4.075220e+08</td>\n",
              "      <td>50281.809000</td>\n",
              "      <td>427.792000</td>\n",
              "      <td>244.262000</td>\n",
              "      <td>4.844467e+07</td>\n",
              "      <td>4.000000e+07</td>\n",
              "      <td>1.059169e+07</td>\n",
              "    </tr>\n",
              "  </tbody>\n",
              "</table>\n",
              "<p>8 rows × 76 columns</p>\n",
              "</div>"
            ],
            "text/plain": [
              "           ESTB_DATE   LIST_DATE       employee          label          Date  \\\n",
              "count  107167.000000  717.000000  108289.000000  109142.000000  1.091420e+05   \n",
              "mean      219.927627  190.100418      62.426119       0.906205  2.019548e+07   \n",
              "std       137.038929  139.643825     160.280163       0.291545  1.137009e+04   \n",
              "min         3.000000    4.000000       0.000000       0.000000  2.018013e+07   \n",
              "25%       112.000000   75.000000       7.000000       1.000000  2.018123e+07   \n",
              "50%       199.000000  152.000000      30.000000       1.000000  2.019123e+07   \n",
              "75%       290.000000  300.000000      67.000000       1.000000  2.020123e+07   \n",
              "max      1629.000000  559.000000   16310.000000       1.000000  2.022063e+07   \n",
              "\n",
              "       currentAsset    saleCredit  noCurrentAsset  tangibleAsset  \\\n",
              "count  1.081430e+05  9.113200e+04    1.071170e+05   1.018980e+05   \n",
              "mean   1.559555e+07  4.345309e+06    2.002072e+07   1.431236e+07   \n",
              "std    4.427457e+07  2.230116e+07    5.802346e+07   4.736083e+07   \n",
              "min   -2.719290e+05 -5.421180e+05   -1.964740e+05  -4.939030e+05   \n",
              "25%    3.493444e+06  6.949922e+05    3.220908e+06   1.051310e+06   \n",
              "50%    8.256922e+06  2.144162e+06    9.714268e+06   6.726104e+06   \n",
              "75%    1.670381e+07  4.868394e+06    1.951774e+07   1.468635e+07   \n",
              "max    5.369207e+09  4.158548e+09    1.002787e+10   1.001807e+10   \n",
              "\n",
              "         totalAsset  ...      sell/emp      bpro/emp   capital/emp  \\\n",
              "count  1.081530e+05  ...  1.039620e+05  1.052160e+05  1.052160e+05   \n",
              "mean   3.558984e+07  ...  2.575138e+05  1.145524e+05  3.627127e+05   \n",
              "std    9.544234e+07  ...  1.104704e+06  2.165616e+06  3.194812e+06   \n",
              "min   -3.793700e+04  ... -5.678862e+06 -8.514408e+07 -2.886529e+04   \n",
              "25%    1.290780e+07  ...  3.532792e+04 -1.369859e+03  7.304598e+03   \n",
              "50%    2.037449e+07  ...  7.221788e+04  1.404137e+04  2.222222e+04   \n",
              "75%    3.668912e+07  ...  1.661013e+05  5.420311e+04  7.500000e+04   \n",
              "max    1.595357e+10  ...  8.514408e+07  4.245776e+08  2.489720e+08   \n",
              "\n",
              "         profit/emp    bprofit/ICR  totalCapitalNet  totalCapitalbpro  \\\n",
              "count  1.052160e+05   90921.000000     72701.000000      72683.000000   \n",
              "mean   2.723170e+04      56.487838         1.865169          3.369693   \n",
              "std    2.875318e+06    1671.956858        25.694053         24.340964   \n",
              "min   -3.183783e+08 -294887.786000     -3266.323000      -3320.311000   \n",
              "25%   -5.456093e+03       0.130000        -0.721000         -0.245000   \n",
              "50%    9.015759e+03       2.148000         2.114000          2.999000   \n",
              "75%    3.977658e+04       8.687000         7.014000          7.828500   \n",
              "max    4.075220e+08   50281.809000       427.792000        244.262000   \n",
              "\n",
              "       totalCapitalGrowth  noCurrentRatio  currentAsset/earnedSurplus  \n",
              "count        7.282400e+04    1.070930e+05                1.078510e+05  \n",
              "mean         9.130668e+02    6.663594e+02               -9.765433e+01  \n",
              "std          1.842636e+05    1.506909e+05                4.011175e+04  \n",
              "min         -2.681187e+03   -2.694073e+07               -3.052247e+06  \n",
              "25%         -3.211447e+00    3.580200e+01               -1.031500e+00  \n",
              "50%          4.288755e+00    1.049590e+02                4.169100e+01  \n",
              "75%          1.946191e+01    2.286010e+02                9.461300e+01  \n",
              "max          4.844467e+07    4.000000e+07                1.059169e+07  \n",
              "\n",
              "[8 rows x 76 columns]"
            ]
          },
          "execution_count": 45,
          "metadata": {},
          "output_type": "execute_result"
        }
      ],
      "source": [
        "# 수치형 데이터\n",
        "\n",
        "allcop.describe(exclude = ['int'])"
      ]
    }
  ],
  "metadata": {
    "kernelspec": {
      "display_name": "Python 3",
      "language": "python",
      "name": "python3"
    },
    "language_info": {
      "codemirror_mode": {
        "name": "ipython",
        "version": 3
      },
      "file_extension": ".py",
      "mimetype": "text/x-python",
      "name": "python",
      "nbconvert_exporter": "python",
      "pygments_lexer": "ipython3",
      "version": "3.8.5"
    },
    "colab": {
      "provenance": [],
      "include_colab_link": true
    }
  },
  "nbformat": 4,
  "nbformat_minor": 0
}